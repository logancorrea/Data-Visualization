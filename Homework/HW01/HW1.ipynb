{
 "cells": [
  {
   "cell_type": "markdown",
   "metadata": {},
   "source": [
    "# Applied Data Visualization – Homework 1\n",
    "*https://www.dataviscourse.net/2024-applied/*"
   ]
  },
  {
   "cell_type": "markdown",
   "metadata": {},
   "source": [
    "In this homework, you will review and visualize data from the Utah Avalanche Center https://utahavalanchecenter.org/observations"
   ]
  },
  {
   "cell_type": "markdown",
   "metadata": {},
   "source": [
    "# Your info\n",
    "\n",
    "*First name: Logan* \n",
    "\n",
    "*Last name: Correa*\n",
    "\n",
    "*Email: logan.correa@utah.edu*\n",
    "\n",
    "*UID u1094034*"
   ]
  },
  {
   "cell_type": "code",
   "execution_count": 17,
   "metadata": {},
   "outputs": [],
   "source": [
    "# the standard input statements\n",
    "import pandas as pd\n",
    "import matplotlib.pyplot as plt\n",
    "plt.style.use('ggplot')\n",
    "%matplotlib inline"
   ]
  },
  {
   "attachments": {},
   "cell_type": "markdown",
   "metadata": {},
   "source": [
    "## Part 1: Load in data\n",
    "\n",
    "Load in the provided file `avalanches.csv` using the Pandas `read_csv` function.\n",
    "\n",
    "Print a couple of rows to get a sense of the data."
   ]
  },
  {
   "cell_type": "code",
   "execution_count": 18,
   "metadata": {},
   "outputs": [
    {
     "data": {
      "text/html": [
       "<div>\n",
       "<style scoped>\n",
       "    .dataframe tbody tr th:only-of-type {\n",
       "        vertical-align: middle;\n",
       "    }\n",
       "\n",
       "    .dataframe tbody tr th {\n",
       "        vertical-align: top;\n",
       "    }\n",
       "\n",
       "    .dataframe thead th {\n",
       "        text-align: right;\n",
       "    }\n",
       "</style>\n",
       "<table border=\"1\" class=\"dataframe\">\n",
       "  <thead>\n",
       "    <tr style=\"text-align: right;\">\n",
       "      <th></th>\n",
       "      <th>Date</th>\n",
       "      <th>Region</th>\n",
       "      <th>Place</th>\n",
       "      <th>Trigger</th>\n",
       "      <th>Trigger: additional info</th>\n",
       "      <th>Weak Layer</th>\n",
       "      <th>Depth</th>\n",
       "      <th>Width</th>\n",
       "      <th>Vertical</th>\n",
       "      <th>Aspect</th>\n",
       "      <th>...</th>\n",
       "      <th>Buried - Fully</th>\n",
       "      <th>Injured</th>\n",
       "      <th>Killed</th>\n",
       "      <th>Accident and Rescue Summary</th>\n",
       "      <th>Terrain Summary</th>\n",
       "      <th>Weather Conditions and History</th>\n",
       "      <th>Comments 1</th>\n",
       "      <th>Comments 2</th>\n",
       "      <th>Comments 3</th>\n",
       "      <th>Comments 4</th>\n",
       "    </tr>\n",
       "  </thead>\n",
       "  <tbody>\n",
       "    <tr>\n",
       "      <th>0</th>\n",
       "      <td>11/9/2012</td>\n",
       "      <td>Salt Lake</td>\n",
       "      <td>Sunset Peak</td>\n",
       "      <td>Snowboarder</td>\n",
       "      <td>Unintentionally Triggered</td>\n",
       "      <td>New Snow/Old Snow Interface</td>\n",
       "      <td>14\"</td>\n",
       "      <td>80'</td>\n",
       "      <td>30'</td>\n",
       "      <td>North</td>\n",
       "      <td>...</td>\n",
       "      <td>NaN</td>\n",
       "      <td>NaN</td>\n",
       "      <td>NaN</td>\n",
       "      <td>NaN</td>\n",
       "      <td>NaN</td>\n",
       "      <td>NaN</td>\n",
       "      <td>While it was a small avalanche that was I caug...</td>\n",
       "      <td>NaN</td>\n",
       "      <td>NaN</td>\n",
       "      <td>NaN</td>\n",
       "    </tr>\n",
       "    <tr>\n",
       "      <th>1</th>\n",
       "      <td>11/10/2012</td>\n",
       "      <td>Salt Lake</td>\n",
       "      <td>Pioneer Ridge</td>\n",
       "      <td>Skier</td>\n",
       "      <td>Remotely Triggered</td>\n",
       "      <td>Facets</td>\n",
       "      <td>2'</td>\n",
       "      <td>20'</td>\n",
       "      <td>125'</td>\n",
       "      <td>North</td>\n",
       "      <td>...</td>\n",
       "      <td>NaN</td>\n",
       "      <td>NaN</td>\n",
       "      <td>NaN</td>\n",
       "      <td>NaN</td>\n",
       "      <td>NaN</td>\n",
       "      <td>NaN</td>\n",
       "      <td>Directly above cat track leading to lift.  Cat...</td>\n",
       "      <td>NaN</td>\n",
       "      <td>NaN</td>\n",
       "      <td>NaN</td>\n",
       "    </tr>\n",
       "    <tr>\n",
       "      <th>2</th>\n",
       "      <td>11/10/2012</td>\n",
       "      <td>Salt Lake</td>\n",
       "      <td>Pioneer Bowl</td>\n",
       "      <td>Natural</td>\n",
       "      <td>NaN</td>\n",
       "      <td>Facets</td>\n",
       "      <td>NaN</td>\n",
       "      <td>NaN</td>\n",
       "      <td>NaN</td>\n",
       "      <td>North</td>\n",
       "      <td>...</td>\n",
       "      <td>NaN</td>\n",
       "      <td>NaN</td>\n",
       "      <td>NaN</td>\n",
       "      <td>NaN</td>\n",
       "      <td>NaN</td>\n",
       "      <td>NaN</td>\n",
       "      <td>Looked and felt like winter today, nice to be ...</td>\n",
       "      <td>NaN</td>\n",
       "      <td>NaN</td>\n",
       "      <td>NaN</td>\n",
       "    </tr>\n",
       "    <tr>\n",
       "      <th>3</th>\n",
       "      <td>11/11/2012</td>\n",
       "      <td>Salt Lake</td>\n",
       "      <td>Patsy Marly</td>\n",
       "      <td>Skier</td>\n",
       "      <td>Unintentionally Triggered</td>\n",
       "      <td>New Snow/Old Snow Interface</td>\n",
       "      <td>2.5'</td>\n",
       "      <td>100'</td>\n",
       "      <td>100'</td>\n",
       "      <td>North</td>\n",
       "      <td>...</td>\n",
       "      <td>NaN</td>\n",
       "      <td>NaN</td>\n",
       "      <td>NaN</td>\n",
       "      <td>NaN</td>\n",
       "      <td>NaN</td>\n",
       "      <td>NaN</td>\n",
       "      <td>A North facing aspect with an exposed ridge in...</td>\n",
       "      <td>NaN</td>\n",
       "      <td>NaN</td>\n",
       "      <td>NaN</td>\n",
       "    </tr>\n",
       "    <tr>\n",
       "      <th>4</th>\n",
       "      <td>11/11/2012</td>\n",
       "      <td>Salt Lake</td>\n",
       "      <td>Two Dogs</td>\n",
       "      <td>Skier</td>\n",
       "      <td>Remotely Triggered</td>\n",
       "      <td>Facets</td>\n",
       "      <td>3'</td>\n",
       "      <td>70'</td>\n",
       "      <td>450'</td>\n",
       "      <td>North</td>\n",
       "      <td>...</td>\n",
       "      <td>NaN</td>\n",
       "      <td>NaN</td>\n",
       "      <td>NaN</td>\n",
       "      <td>NaN</td>\n",
       "      <td>NaN</td>\n",
       "      <td>NaN</td>\n",
       "      <td>Remotely triggered all the new storm snow (abo...</td>\n",
       "      <td>NaN</td>\n",
       "      <td>NaN</td>\n",
       "      <td>Additional comments by another backcountry obs...</td>\n",
       "    </tr>\n",
       "  </tbody>\n",
       "</table>\n",
       "<p>5 rows × 25 columns</p>\n",
       "</div>"
      ],
      "text/plain": [
       "         Date     Region          Place      Trigger  \\\n",
       "0   11/9/2012  Salt Lake    Sunset Peak  Snowboarder   \n",
       "1  11/10/2012  Salt Lake  Pioneer Ridge        Skier   \n",
       "2  11/10/2012  Salt Lake   Pioneer Bowl      Natural   \n",
       "3  11/11/2012  Salt Lake    Patsy Marly        Skier   \n",
       "4  11/11/2012  Salt Lake       Two Dogs        Skier   \n",
       "\n",
       "    Trigger: additional info                   Weak Layer Depth Width  \\\n",
       "0  Unintentionally Triggered  New Snow/Old Snow Interface   14\"   80'   \n",
       "1         Remotely Triggered                       Facets    2'   20'   \n",
       "2                        NaN                       Facets   NaN   NaN   \n",
       "3  Unintentionally Triggered  New Snow/Old Snow Interface  2.5'  100'   \n",
       "4         Remotely Triggered                       Facets    3'   70'   \n",
       "\n",
       "  Vertical Aspect  ... Buried - Fully Injured  Killed  \\\n",
       "0      30'  North  ...            NaN     NaN     NaN   \n",
       "1     125'  North  ...            NaN     NaN     NaN   \n",
       "2      NaN  North  ...            NaN     NaN     NaN   \n",
       "3     100'  North  ...            NaN     NaN     NaN   \n",
       "4     450'  North  ...            NaN     NaN     NaN   \n",
       "\n",
       "   Accident and Rescue Summary  Terrain Summary  \\\n",
       "0                          NaN              NaN   \n",
       "1                          NaN              NaN   \n",
       "2                          NaN              NaN   \n",
       "3                          NaN              NaN   \n",
       "4                          NaN              NaN   \n",
       "\n",
       "   Weather Conditions and History  \\\n",
       "0                             NaN   \n",
       "1                             NaN   \n",
       "2                             NaN   \n",
       "3                             NaN   \n",
       "4                             NaN   \n",
       "\n",
       "                                          Comments 1  Comments 2 Comments 3  \\\n",
       "0  While it was a small avalanche that was I caug...         NaN        NaN   \n",
       "1  Directly above cat track leading to lift.  Cat...         NaN        NaN   \n",
       "2  Looked and felt like winter today, nice to be ...         NaN        NaN   \n",
       "3  A North facing aspect with an exposed ridge in...         NaN        NaN   \n",
       "4  Remotely triggered all the new storm snow (abo...         NaN        NaN   \n",
       "\n",
       "                                          Comments 4  \n",
       "0                                                NaN  \n",
       "1                                                NaN  \n",
       "2                                                NaN  \n",
       "3                                                NaN  \n",
       "4  Additional comments by another backcountry obs...  \n",
       "\n",
       "[5 rows x 25 columns]"
      ]
     },
     "execution_count": 18,
     "metadata": {},
     "output_type": "execute_result"
    }
   ],
   "source": [
    "# import data\n",
    "df = pd.read_csv('avalanches.csv')\n",
    "df.head()\n"
   ]
  },
  {
   "attachments": {},
   "cell_type": "markdown",
   "metadata": {},
   "source": [
    "## Part 2: Clean dates\n",
    "\n",
    "You may notice that the dates of avalanches are provided in the `Date` column, however they are encoded as a string.\n",
    "\n",
    "Additionally, we may want to analyze avalanches by year and by month, so let's create separate columns for those.\n",
    "\n",
    "1. Convert the Date column to datetime format\n",
    "2. Create a new column Year\n",
    "3. Create a new column Month"
   ]
  },
  {
   "cell_type": "code",
   "execution_count": 19,
   "metadata": {},
   "outputs": [],
   "source": [
    "# convert date to datetime\n",
    "df['Date'] = pd.to_datetime(df['Date'])\n",
    "\n",
    "# create a new column for the year\n",
    "df['Year'] = df['Date'].dt.year\n",
    "\n",
    "# create a new column for the month\n",
    "df['Month'] = df['Date'].dt.month\n"
   ]
  },
  {
   "attachments": {},
   "cell_type": "markdown",
   "metadata": {},
   "source": [
    "## Part 3: Cleaning up Numerical Columns\n",
    "\n",
    "You may also notice that numerical columns (`Elevation`, `Depth`, `Width`, `Vertical`) are encoded as strings. Moreover, some are in feet ('), while others are in inches (\")."
   ]
  },
  {
   "attachments": {},
   "cell_type": "markdown",
   "metadata": {},
   "source": [
    "First, create a new column Elevation_Feet, with the Elevation column converted to a number, in feet"
   ]
  },
  {
   "cell_type": "code",
   "execution_count": 38,
   "metadata": {},
   "outputs": [
    {
     "data": {
      "text/html": [
       "<div>\n",
       "<style scoped>\n",
       "    .dataframe tbody tr th:only-of-type {\n",
       "        vertical-align: middle;\n",
       "    }\n",
       "\n",
       "    .dataframe tbody tr th {\n",
       "        vertical-align: top;\n",
       "    }\n",
       "\n",
       "    .dataframe thead th {\n",
       "        text-align: right;\n",
       "    }\n",
       "</style>\n",
       "<table border=\"1\" class=\"dataframe\">\n",
       "  <thead>\n",
       "    <tr style=\"text-align: right;\">\n",
       "      <th></th>\n",
       "      <th>Date</th>\n",
       "      <th>Region</th>\n",
       "      <th>Place</th>\n",
       "      <th>Trigger</th>\n",
       "      <th>Trigger: additional info</th>\n",
       "      <th>Weak Layer</th>\n",
       "      <th>Depth</th>\n",
       "      <th>Width</th>\n",
       "      <th>Vertical</th>\n",
       "      <th>Aspect</th>\n",
       "      <th>...</th>\n",
       "      <th>Accident and Rescue Summary</th>\n",
       "      <th>Terrain Summary</th>\n",
       "      <th>Weather Conditions and History</th>\n",
       "      <th>Comments 1</th>\n",
       "      <th>Comments 2</th>\n",
       "      <th>Comments 3</th>\n",
       "      <th>Comments 4</th>\n",
       "      <th>Year</th>\n",
       "      <th>Month</th>\n",
       "      <th>Elevation_Feet</th>\n",
       "    </tr>\n",
       "  </thead>\n",
       "  <tbody>\n",
       "    <tr>\n",
       "      <th>11</th>\n",
       "      <td>2012-12-08</td>\n",
       "      <td>Salt Lake</td>\n",
       "      <td>Superior</td>\n",
       "      <td>Unknown</td>\n",
       "      <td>NaN</td>\n",
       "      <td>New Snow</td>\n",
       "      <td>NaN</td>\n",
       "      <td>80'</td>\n",
       "      <td>NaN</td>\n",
       "      <td>South</td>\n",
       "      <td>...</td>\n",
       "      <td>NaN</td>\n",
       "      <td>NaN</td>\n",
       "      <td>NaN</td>\n",
       "      <td>Coming from a chute that had seen quite a bit ...</td>\n",
       "      <td>NaN</td>\n",
       "      <td>NaN</td>\n",
       "      <td>NaN</td>\n",
       "      <td>2012.0</td>\n",
       "      <td>12.0</td>\n",
       "      <td>NaN</td>\n",
       "    </tr>\n",
       "    <tr>\n",
       "      <th>44</th>\n",
       "      <td>2012-12-20</td>\n",
       "      <td>Uintas</td>\n",
       "      <td>Roundy Basin</td>\n",
       "      <td>Snowboarder</td>\n",
       "      <td>Remotely Triggered</td>\n",
       "      <td>Facets</td>\n",
       "      <td>4\"</td>\n",
       "      <td>800'</td>\n",
       "      <td>300'</td>\n",
       "      <td>Northeast</td>\n",
       "      <td>...</td>\n",
       "      <td>NaN</td>\n",
       "      <td>NaN</td>\n",
       "      <td>NaN</td>\n",
       "      <td>Remotely triggered from the flats. Was not cli...</td>\n",
       "      <td>NaN</td>\n",
       "      <td>NaN</td>\n",
       "      <td>NaN</td>\n",
       "      <td>2012.0</td>\n",
       "      <td>12.0</td>\n",
       "      <td>NaN</td>\n",
       "    </tr>\n",
       "    <tr>\n",
       "      <th>49</th>\n",
       "      <td>2012-12-21</td>\n",
       "      <td>Skyline</td>\n",
       "      <td>Lake Canyon</td>\n",
       "      <td>Snowmobiler</td>\n",
       "      <td>Remotely Triggered</td>\n",
       "      <td>Facets</td>\n",
       "      <td>4'</td>\n",
       "      <td>900'</td>\n",
       "      <td>800'</td>\n",
       "      <td>Northeast</td>\n",
       "      <td>...</td>\n",
       "      <td>NaN</td>\n",
       "      <td>NaN</td>\n",
       "      <td>NaN</td>\n",
       "      <td>\\r\\n\\r\\nThe Skyline has a big avalanche probl...</td>\n",
       "      <td>NaN</td>\n",
       "      <td>NaN</td>\n",
       "      <td>NaN</td>\n",
       "      <td>2012.0</td>\n",
       "      <td>12.0</td>\n",
       "      <td>NaN</td>\n",
       "    </tr>\n",
       "    <tr>\n",
       "      <th>54</th>\n",
       "      <td>2012-12-24</td>\n",
       "      <td>Logan</td>\n",
       "      <td>Amazon Basin</td>\n",
       "      <td>Unknown</td>\n",
       "      <td>Remotely Triggered</td>\n",
       "      <td>NaN</td>\n",
       "      <td>2.5'</td>\n",
       "      <td>150'</td>\n",
       "      <td>40'</td>\n",
       "      <td>Northeast</td>\n",
       "      <td>...</td>\n",
       "      <td>NaN</td>\n",
       "      <td>NaN</td>\n",
       "      <td>NaN</td>\n",
       "      <td>We observed a crown from a natural slide at th...</td>\n",
       "      <td>NaN</td>\n",
       "      <td>NaN</td>\n",
       "      <td>Forecaster's comments. Small natural wind slab...</td>\n",
       "      <td>2012.0</td>\n",
       "      <td>12.0</td>\n",
       "      <td>NaN</td>\n",
       "    </tr>\n",
       "    <tr>\n",
       "      <th>74</th>\n",
       "      <td>2013-01-03</td>\n",
       "      <td>Salt Lake</td>\n",
       "      <td>Wolverine Cirque</td>\n",
       "      <td>Skier</td>\n",
       "      <td>NaN</td>\n",
       "      <td>NaN</td>\n",
       "      <td>NaN</td>\n",
       "      <td>NaN</td>\n",
       "      <td>NaN</td>\n",
       "      <td>NaN</td>\n",
       "      <td>...</td>\n",
       "      <td>NaN</td>\n",
       "      <td>NaN</td>\n",
       "      <td>NaN</td>\n",
       "      <td>A party reported to Alta Central that they had...</td>\n",
       "      <td>NaN</td>\n",
       "      <td>NaN</td>\n",
       "      <td>NaN</td>\n",
       "      <td>2013.0</td>\n",
       "      <td>1.0</td>\n",
       "      <td>NaN</td>\n",
       "    </tr>\n",
       "  </tbody>\n",
       "</table>\n",
       "<p>5 rows × 28 columns</p>\n",
       "</div>"
      ],
      "text/plain": [
       "         Date     Region             Place      Trigger  \\\n",
       "11 2012-12-08  Salt Lake          Superior      Unknown   \n",
       "44 2012-12-20     Uintas      Roundy Basin  Snowboarder   \n",
       "49 2012-12-21    Skyline       Lake Canyon  Snowmobiler   \n",
       "54 2012-12-24      Logan      Amazon Basin      Unknown   \n",
       "74 2013-01-03  Salt Lake  Wolverine Cirque        Skier   \n",
       "\n",
       "   Trigger: additional info Weak Layer Depth Width Vertical     Aspect  ...  \\\n",
       "11                      NaN   New Snow   NaN   80'      NaN      South  ...   \n",
       "44       Remotely Triggered     Facets    4\"  800'     300'  Northeast  ...   \n",
       "49       Remotely Triggered     Facets    4'  900'     800'  Northeast  ...   \n",
       "54       Remotely Triggered        NaN  2.5'  150'      40'  Northeast  ...   \n",
       "74                      NaN        NaN   NaN   NaN      NaN        NaN  ...   \n",
       "\n",
       "   Accident and Rescue Summary Terrain Summary  \\\n",
       "11                         NaN             NaN   \n",
       "44                         NaN             NaN   \n",
       "49                         NaN             NaN   \n",
       "54                         NaN             NaN   \n",
       "74                         NaN             NaN   \n",
       "\n",
       "    Weather Conditions and History  \\\n",
       "11                             NaN   \n",
       "44                             NaN   \n",
       "49                             NaN   \n",
       "54                             NaN   \n",
       "74                             NaN   \n",
       "\n",
       "                                           Comments 1  Comments 2  Comments 3  \\\n",
       "11  Coming from a chute that had seen quite a bit ...         NaN         NaN   \n",
       "44  Remotely triggered from the flats. Was not cli...         NaN         NaN   \n",
       "49   \\r\\n\\r\\nThe Skyline has a big avalanche probl...         NaN         NaN   \n",
       "54  We observed a crown from a natural slide at th...         NaN         NaN   \n",
       "74  A party reported to Alta Central that they had...         NaN         NaN   \n",
       "\n",
       "                                           Comments 4    Year Month  \\\n",
       "11                                                NaN  2012.0  12.0   \n",
       "44                                                NaN  2012.0  12.0   \n",
       "49                                                NaN  2012.0  12.0   \n",
       "54  Forecaster's comments. Small natural wind slab...  2012.0  12.0   \n",
       "74                                                NaN  2013.0   1.0   \n",
       "\n",
       "   Elevation_Feet  \n",
       "11            NaN  \n",
       "44            NaN  \n",
       "49            NaN  \n",
       "54            NaN  \n",
       "74            NaN  \n",
       "\n",
       "[5 rows x 28 columns]"
      ]
     },
     "execution_count": 38,
     "metadata": {},
     "output_type": "execute_result"
    }
   ],
   "source": [
    "# create elevation_feet column\n",
    "df['Elevation_Feet'] = df['Elevation'].str.replace(\",\", \"\")\n",
    "df['Elevation_Feet'] = df['Elevation_Feet'].str.replace(\"'\", \"\")\n",
    "#df['Elevation_Feet'] = df['Elevation_Feet'].astype(int)\n",
    "\n",
    "#count number of nan values in elevation feet\n",
    "df['Elevation_Feet'].isnull().sum()\n",
    "\n",
    "# print rows with nan values\n",
    "df[df['Elevation'].isnull()].head()\n"
   ]
  },
  {
   "attachments": {},
   "cell_type": "markdown",
   "metadata": {},
   "source": [
    "Then, create three new columns in inches: \n",
    "   1. Depth_Inches, with the Depth column converted to a number, in inches\n",
    "   2. Width_Inches, with the Width column converted to a number, in inches\n",
    "   3. Vertical_Inches, with the Vertical column converted to a number, in inches\n",
    "\n",
    "We recommend that you write a function that converts the string into a number and then use that function to clean up the columns. Note that you will also have to handle undefined (NaN) values."
   ]
  },
  {
   "cell_type": "code",
   "execution_count": 21,
   "metadata": {},
   "outputs": [],
   "source": [
    "# your code here\n"
   ]
  },
  {
   "cell_type": "markdown",
   "metadata": {},
   "source": [
    "## Part 4: Plotting"
   ]
  },
  {
   "attachments": {},
   "cell_type": "markdown",
   "metadata": {},
   "source": [
    "4.1: Plot a histogram of the Depth_Inches variable using the built-in pandas plotting function. "
   ]
  },
  {
   "cell_type": "code",
   "execution_count": 22,
   "metadata": {},
   "outputs": [],
   "source": [
    "# your code here\n"
   ]
  },
  {
   "attachments": {},
   "cell_type": "markdown",
   "metadata": {},
   "source": [
    "4.2: Then plot a histogram of the elevation in feet variable."
   ]
  },
  {
   "cell_type": "code",
   "execution_count": 23,
   "metadata": {},
   "outputs": [],
   "source": [
    "# your code here\n"
   ]
  },
  {
   "attachments": {},
   "cell_type": "markdown",
   "metadata": {},
   "source": [
    "4.3: Next, plot a bar chart of the number of avalances by year\n",
    "(Hint: You may find it useful to create a separate data frame, grouped by year.)"
   ]
  },
  {
   "cell_type": "code",
   "execution_count": 24,
   "metadata": {},
   "outputs": [],
   "source": [
    "# your code here\n"
   ]
  },
  {
   "attachments": {},
   "cell_type": "markdown",
   "metadata": {},
   "source": [
    "4.4: Once you have done that, you will see that the Utah Avalanche Center does not have complete data for earlier years. Let's filter them out to see the barchart more clearly"
   ]
  },
  {
   "cell_type": "code",
   "execution_count": 25,
   "metadata": {},
   "outputs": [],
   "source": [
    "# your code here"
   ]
  },
  {
   "attachments": {},
   "cell_type": "markdown",
   "metadata": {},
   "source": [
    "4.5: Create a barchart of the number of avalanches per month\n",
    "(Hint: You may find it useful to create a separate data frame, grouped by month.)"
   ]
  },
  {
   "cell_type": "code",
   "execution_count": 26,
   "metadata": {},
   "outputs": [],
   "source": [
    "# your code here"
   ]
  },
  {
   "attachments": {},
   "cell_type": "markdown",
   "metadata": {},
   "source": [
    "4.6: Create a boxplot of the elevation of avalances by month"
   ]
  },
  {
   "cell_type": "code",
   "execution_count": 27,
   "metadata": {},
   "outputs": [],
   "source": [
    "# your code here \n"
   ]
  },
  {
   "attachments": {},
   "cell_type": "markdown",
   "metadata": {},
   "source": [
    "4.6:  Create a horizontal barchart of the number of avalanches by trigger\n",
    "\n",
    "(Hint: You may find it useful to create a separate data frame, grouped by trigger.)"
   ]
  },
  {
   "cell_type": "code",
   "execution_count": 28,
   "metadata": {},
   "outputs": [],
   "source": [
    "# your code here\n"
   ]
  },
  {
   "attachments": {},
   "cell_type": "markdown",
   "metadata": {},
   "source": [
    "4.7: Create a boxplot of the depth of avalances by trigger"
   ]
  },
  {
   "cell_type": "code",
   "execution_count": 29,
   "metadata": {},
   "outputs": [],
   "source": [
    "# your code here"
   ]
  },
  {
   "attachments": {},
   "cell_type": "markdown",
   "metadata": {},
   "source": [
    "# Part 5: Analysis – What did we learn?\n",
    "Please answer the following questions in (brief) writing.\n",
    "\n",
    "- What does the distribution of avalanche depths and elevations look like? \n",
    "- What year had the most avalanches? How many?\n",
    "- What month had the most avalanches? How many?\n",
    "- What month gets the highest elevation avalanches? How many feet, on average?\n",
    "- What is the most common avalanche trigger?\n",
    "- What avalanche trigger yields the deepest avalanches? How many inches deep, on average?"
   ]
  },
  {
   "cell_type": "markdown",
   "metadata": {},
   "source": [
    "Your Answer Here!\n"
   ]
  },
  {
   "cell_type": "markdown",
   "metadata": {},
   "source": [
    "# Part 6: Bonus – Are Avalanches with Fatalities Different?\n",
    "\n",
    "Compare avalanches without and with fatalities using visualziations. Are there any differences you notice?#"
   ]
  },
  {
   "cell_type": "markdown",
   "metadata": {},
   "source": [
    "# Grading Scheme\n",
    "\n",
    "Part 1: 5%  \n",
    "Part 2: 15%  \n",
    "Part 3: 25%  \n",
    "Part 4: 40%, 5% per sub-itme  \n",
    "Part 5: 15%  \n",
    "Part 6 (Bonus): 10%  "
   ]
  }
 ],
 "metadata": {
  "__persist_keys_record": [
   "__GENERATED_DATAFRAMES__",
   "__persist_nb_uuid__"
  ],
  "__persist_nb_uuid__": "4450a9e0-6a93-4311-a347-5a7652d3cbf3",
  "kernelspec": {
   "display_name": "Python 3 (ipykernel)",
   "language": "python",
   "name": "python3"
  },
  "language_info": {
   "codemirror_mode": {
    "name": "ipython",
    "version": 3
   },
   "file_extension": ".py",
   "mimetype": "text/x-python",
   "name": "python",
   "nbconvert_exporter": "python",
   "pygments_lexer": "ipython3",
   "version": "3.12.4"
  }
 },
 "nbformat": 4,
 "nbformat_minor": 4
}
