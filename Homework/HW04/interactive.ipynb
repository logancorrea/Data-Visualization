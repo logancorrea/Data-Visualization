{
 "cells": [
  {
   "cell_type": "code",
   "execution_count": 1,
   "metadata": {},
   "outputs": [],
   "source": [
    "import pandas as pd\n",
    "import numpy as np\n",
    "import matplotlib.pyplot as plt\n",
    "\n",
    "# Need for this homework\n",
    "import geopandas as gpd\n",
    "import contextily as cx\n",
    "\n",
    "from shapely.geometry import Point\n",
    "\n",
    "plt.style.use('default')\n",
    "# This next line tells jupyter to render the images inline\n",
    "%matplotlib inline\n",
    "import matplotlib_inline\n",
    "# This renders your figures as vector graphics AND gives you an option to download a PDF too\n",
    "matplotlib_inline.backend_inline.set_matplotlib_formats('svg', 'pdf')\n"
   ]
  },
  {
   "cell_type": "code",
   "execution_count": 2,
   "metadata": {},
   "outputs": [],
   "source": [
    "# Read in data\n",
    "avy_df = pd.read_csv('./avalanches.csv')\n",
    "#display(avy_df.head())\n",
    "#display(avy_df['Coordinates'].head())\n",
    "\n",
    "# Split the coordinates into two columns\n",
    "avy_df[['Latitude', 'Longitude']] = avy_df['Coordinates'].str.split(',', expand=True)\n",
    "\n",
    "# Convert the columns to numeric\n",
    "avy_df['Latitude'] = pd.to_numeric(avy_df['Latitude'], errors='coerce')\n",
    "avy_df['Longitude'] = pd.to_numeric(avy_df['Longitude'], errors='coerce')\n",
    "\n",
    "# filter lat/long outliers\n",
    "avy_filtered = avy_df[\n",
    "    (avy_df['Latitude'] >= 36) & \n",
    "    (avy_df['Latitude'] <= 42) & \n",
    "    (avy_df['Longitude'] >= -114) & \n",
    "    (avy_df['Longitude'] <= -108)\n",
    "]"
   ]
  },
  {
   "cell_type": "code",
   "execution_count": 3,
   "metadata": {},
   "outputs": [],
   "source": [
    "# Create a GeoDataFrame by converting 'Latitude' and 'Longitude' to geometry Points\n",
    "geometry = [Point(xy) for xy in zip(avy_filtered['Longitude'], avy_filtered['Latitude'])]\n",
    "imap = gpd.GeoDataFrame(avy_filtered, geometry=geometry)\n",
    "\n",
    "# Set the coordinate reference system to WGS 84 (EPSG:4326)\n",
    "imap.set_crs(epsg=4326, inplace=True)\n",
    "\n",
    "# Reproject to Web Mercator (EPSG:3857) to match the basemap projection\n",
    "imap = imap.to_crs(epsg=3857)"
   ]
  },
  {
   "cell_type": "code",
   "execution_count": 4,
   "metadata": {},
   "outputs": [],
   "source": [
    "import folium"
   ]
  },
  {
   "cell_type": "code",
   "execution_count": null,
   "metadata": {},
   "outputs": [],
   "source": []
  }
 ],
 "metadata": {
  "kernelspec": {
   "display_name": "Python 3",
   "language": "python",
   "name": "python3"
  },
  "language_info": {
   "codemirror_mode": {
    "name": "ipython",
    "version": 3
   },
   "file_extension": ".py",
   "mimetype": "text/x-python",
   "name": "python",
   "nbconvert_exporter": "python",
   "pygments_lexer": "ipython3",
   "version": "3.12.1"
  }
 },
 "nbformat": 4,
 "nbformat_minor": 2
}
