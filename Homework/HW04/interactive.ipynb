{
 "cells": [
  {
   "cell_type": "code",
   "execution_count": 3,
   "metadata": {},
   "outputs": [],
   "source": [
    "import pandas as pd\n",
    "import numpy as np\n",
    "import matplotlib.pyplot as plt\n",
    "\n",
    "# Need for this homework\n",
    "import geopandas as gpd\n",
    "import contextily as cx\n",
    "\n",
    "from shapely.geometry import Point\n",
    "\n",
    "plt.style.use('default')\n",
    "# This next line tells jupyter to render the images inline\n",
    "%matplotlib inline\n",
    "import matplotlib_inline\n",
    "# This renders your figures as vector graphics AND gives you an option to download a PDF too\n",
    "matplotlib_inline.backend_inline.set_matplotlib_formats('svg', 'pdf')\n"
   ]
  },
  {
   "cell_type": "code",
   "execution_count": 1,
   "metadata": {},
   "outputs": [
    {
     "ename": "NameError",
     "evalue": "name 'pd' is not defined",
     "output_type": "error",
     "traceback": [
      "\u001b[0;31m---------------------------------------------------------------------------\u001b[0m",
      "\u001b[0;31mNameError\u001b[0m                                 Traceback (most recent call last)",
      "Cell \u001b[0;32mIn[1], line 2\u001b[0m\n\u001b[1;32m      1\u001b[0m \u001b[38;5;66;03m# Read in data\u001b[39;00m\n\u001b[0;32m----> 2\u001b[0m avy_df \u001b[38;5;241m=\u001b[39m \u001b[43mpd\u001b[49m\u001b[38;5;241m.\u001b[39mread_csv(\u001b[38;5;124m'\u001b[39m\u001b[38;5;124m./avalanches.csv\u001b[39m\u001b[38;5;124m'\u001b[39m)\n\u001b[1;32m      3\u001b[0m \u001b[38;5;66;03m#display(avy_df.head())\u001b[39;00m\n\u001b[1;32m      4\u001b[0m \u001b[38;5;66;03m#display(avy_df['Coordinates'].head())\u001b[39;00m\n\u001b[1;32m      5\u001b[0m \n\u001b[1;32m      6\u001b[0m \u001b[38;5;66;03m# Split the coordinates into two columns\u001b[39;00m\n\u001b[1;32m      7\u001b[0m avy_df[[\u001b[38;5;124m'\u001b[39m\u001b[38;5;124mLatitude\u001b[39m\u001b[38;5;124m'\u001b[39m, \u001b[38;5;124m'\u001b[39m\u001b[38;5;124mLongitude\u001b[39m\u001b[38;5;124m'\u001b[39m]] \u001b[38;5;241m=\u001b[39m avy_df[\u001b[38;5;124m'\u001b[39m\u001b[38;5;124mCoordinates\u001b[39m\u001b[38;5;124m'\u001b[39m]\u001b[38;5;241m.\u001b[39mstr\u001b[38;5;241m.\u001b[39msplit(\u001b[38;5;124m'\u001b[39m\u001b[38;5;124m,\u001b[39m\u001b[38;5;124m'\u001b[39m, expand\u001b[38;5;241m=\u001b[39m\u001b[38;5;28;01mTrue\u001b[39;00m)\n",
      "\u001b[0;31mNameError\u001b[0m: name 'pd' is not defined"
     ]
    }
   ],
   "source": [
    "# Read in data\n",
    "avy_df = pd.read_csv('./avalanches.csv')\n",
    "#display(avy_df.head())\n",
    "#display(avy_df['Coordinates'].head())\n",
    "\n",
    "# Split the coordinates into two columns\n",
    "avy_df[['Latitude', 'Longitude']] = avy_df['Coordinates'].str.split(',', expand=True)\n",
    "\n",
    "# Convert the columns to numeric\n",
    "avy_df['Latitude'] = pd.to_numeric(avy_df['Latitude'], errors='coerce')\n",
    "avy_df['Longitude'] = pd.to_numeric(avy_df['Longitude'], errors='coerce')\n",
    "\n",
    "# filter lat/long outliers\n",
    "avy_filtered = avy_df[\n",
    "    (avy_df['Latitude'] >= 36) & \n",
    "    (avy_df['Latitude'] <= 42) & \n",
    "    (avy_df['Longitude'] >= -114) & \n",
    "    (avy_df['Longitude'] <= -108)\n",
    "]"
   ]
  },
  {
   "cell_type": "code",
   "execution_count": 5,
   "metadata": {},
   "outputs": [
    {
     "ename": "NameError",
     "evalue": "name 'Point' is not defined",
     "output_type": "error",
     "traceback": [
      "\u001b[0;31m---------------------------------------------------------------------------\u001b[0m",
      "\u001b[0;31mNameError\u001b[0m                                 Traceback (most recent call last)",
      "Cell \u001b[0;32mIn[5], line 2\u001b[0m\n\u001b[1;32m      1\u001b[0m \u001b[38;5;66;03m# Create a GeoDataFrame by converting 'Latitude' and 'Longitude' to geometry Points\u001b[39;00m\n\u001b[0;32m----> 2\u001b[0m geometry \u001b[38;5;241m=\u001b[39m [\u001b[43mPoint\u001b[49m(xy) \u001b[38;5;28;01mfor\u001b[39;00m xy \u001b[38;5;129;01min\u001b[39;00m \u001b[38;5;28mzip\u001b[39m(avy_filtered[\u001b[38;5;124m'\u001b[39m\u001b[38;5;124mLongitude\u001b[39m\u001b[38;5;124m'\u001b[39m], avy_filtered[\u001b[38;5;124m'\u001b[39m\u001b[38;5;124mLatitude\u001b[39m\u001b[38;5;124m'\u001b[39m])]\n\u001b[1;32m      3\u001b[0m imap \u001b[38;5;241m=\u001b[39m gpd\u001b[38;5;241m.\u001b[39mGeoDataFrame(avy_filtered, geometry\u001b[38;5;241m=\u001b[39mgeometry)\n\u001b[1;32m      5\u001b[0m \u001b[38;5;66;03m# Set the coordinate reference system to WGS 84 (EPSG:4326)\u001b[39;00m\n",
      "\u001b[0;31mNameError\u001b[0m: name 'Point' is not defined"
     ]
    }
   ],
   "source": [
    "# Create a GeoDataFrame by converting 'Latitude' and 'Longitude' to geometry Points\n",
    "geometry = [Point(xy) for xy in zip(avy_filtered['Longitude'], avy_filtered['Latitude'])]\n",
    "imap = gpd.GeoDataFrame(avy_filtered, geometry=geometry)\n",
    "\n",
    "# Set the coordinate reference system to WGS 84 (EPSG:4326)\n",
    "imap.set_crs(epsg=4326, inplace=True)\n",
    "\n",
    "# Reproject to Web Mercator (EPSG:3857) to match the basemap projection\n",
    "imap = imap.to_crs(epsg=3857)"
   ]
  },
  {
   "cell_type": "code",
   "execution_count": null,
   "metadata": {},
   "outputs": [],
   "source": [
    "import folium"
   ]
  },
  {
   "cell_type": "code",
   "execution_count": null,
   "metadata": {},
   "outputs": [],
   "source": []
  }
 ],
 "metadata": {
  "kernelspec": {
   "display_name": "Python 3",
   "language": "python",
   "name": "python3"
  },
  "language_info": {
   "codemirror_mode": {
    "name": "ipython",
    "version": 3
   },
   "file_extension": ".py",
   "mimetype": "text/x-python",
   "name": "python",
   "nbconvert_exporter": "python",
   "pygments_lexer": "ipython3",
   "version": "3.12.1"
  }
 },
 "nbformat": 4,
 "nbformat_minor": 2
}
